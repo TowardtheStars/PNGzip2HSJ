{
 "cells": [
  {
   "cell_type": "code",
   "execution_count": 2,
   "metadata": {},
   "outputs": [],
   "source": [
    "from pynput.mouse import Controller as MouseController, Button as MouseButton, Listener as MouseListener\n",
    "from zipfile import ZipFile\n",
    "import win32gui, numpy as np\n",
    "import os\n",
    "from os.path import join as pathjoin"
   ]
  },
  {
   "cell_type": "code",
   "execution_count": 31,
   "metadata": {},
   "outputs": [
    {
     "data": {
      "text/plain": [
       "(1216, 0, 2021, 1391)"
      ]
     },
     "execution_count": 31,
     "metadata": {},
     "output_type": "execute_result"
    }
   ],
   "source": [
    "leidian_handle = win32gui.FindWindow(None, '雷电模拟器')\n",
    "leidian_rect = win32gui.GetWindowRect(leidian_handle)\n",
    "leidian_rect"
   ]
  },
  {
   "cell_type": "code",
   "execution_count": 4,
   "metadata": {},
   "outputs": [],
   "source": [
    "png_package_path = r'27牌午后小憩_868051.zip'\n",
    "simulator_share_folder_root = r'C:\\Users\\TowardTheStars\\Documents\\leidian9\\Pictures'\n",
    "template_folder_name = r'倒模'\n",
    "\n",
    "template_folder_path = os.path.join(simulator_share_folder_root, template_folder_name)  # 模板 png 临时文件夹\n",
    "if os.path.exists(template_folder_path):\n",
    "    [os.remove(pathjoin(template_folder_path, p)) for p in os.listdir(template_folder_path)]\n",
    "    os.rmdir(template_folder_path)\n",
    "os.makedirs(template_folder_path, exist_ok=True)"
   ]
  },
  {
   "cell_type": "code",
   "execution_count": 29,
   "metadata": {},
   "outputs": [],
   "source": [
    "import time\n",
    "\n",
    "\n",
    "mouse = MouseController()\n",
    "\n",
    "init_pos = [\n",
    "    (382, 1338),\n",
    "    (84, 1222),\n",
    "    (537, 539),\n",
    "    (481, 160),\n",
    "    (708, 1361),\n",
    "    (717, 1349)\n",
    "]\n",
    "\n",
    "import_pos = [\n",
    "    (471, 75),\n",
    "    (188, 250),\n",
    "    (479, 164),\n",
    "    (649, 1361),\n",
    "    (231, 1347),\n",
    "    (212, 1316),\n",
    "    (716, 1355)\n",
    "]\n",
    "def import_png(init=False, poses=None):\n",
    "    if not poses:\n",
    "        if init:\n",
    "            poses = init_pos\n",
    "        else:\n",
    "            poses = import_pos\n",
    "    \n",
    "    for p in poses:\n",
    "        win32gui.BringWindowToTop(leidian_handle)\n",
    "        leidian_rect = win32gui.GetWindowRect(leidian_handle)\n",
    "        original_pos = np.array(leidian_rect[0:2])\n",
    "        current_pos = np.array(mouse.position)\n",
    "        mouse.move(*(original_pos + np.array(p) - current_pos))\n",
    "        mouse.click(MouseButton.left)\n",
    "        time.sleep(0.7)\n",
    "        \n"
   ]
  },
  {
   "cell_type": "code",
   "execution_count": 28,
   "metadata": {},
   "outputs": [
    {
     "name": "stderr",
     "output_type": "stream",
     "text": [
      "  0%|          | 0/44 [00:00<?, ?it/s]"
     ]
    },
    {
     "name": "stderr",
     "output_type": "stream",
     "text": [
      "100%|██████████| 44/44 [03:41<00:00,  5.02s/it]\n"
     ]
    }
   ],
   "source": [
    "import re\n",
    "from tqdm import tqdm\n",
    "dst_path = pathjoin(template_folder_path, '1.png')\n",
    "with ZipFile(png_package_path, mode='r') as zipfile:\n",
    "    namelist = zipfile.namelist()\n",
    "    namelist = [n.encode('cp437').decode('gbk') for n in namelist]\n",
    "    namelist.remove(r'格式导出由_幻梦de绮梦科技提供_.txt')\n",
    "    namelist.sort(key=lambda x: int(re.search(r'\\d*', x).group()))\n",
    "    \n",
    "    init = True\n",
    "    for name in tqdm(namelist):\n",
    "        zipfile.extract(name.encode('gbk').decode('cp437'), template_folder_path)\n",
    "        if os.path.exists(dst_path):\n",
    "            os.remove(dst_path)\n",
    "        os.rename(pathjoin(template_folder_path, name.encode('gbk').decode('cp437')), dst_path)\n",
    "        \n",
    "        import_png(init)\n",
    "        init = False\n",
    "        "
   ]
  },
  {
   "cell_type": "code",
   "execution_count": null,
   "metadata": {},
   "outputs": [],
   "source": [
    "save_pos_1 = [\n",
    "    (729, 66),\n",
    "    (712, 393),\n",
    "    (312, 706)\n",
    "]\n",
    "save_pos_2 = [\n",
    "    (465, 782)\n",
    "]\n"
   ]
  }
 ],
 "metadata": {
  "kernelspec": {
   "display_name": "Python 3",
   "language": "python",
   "name": "python3"
  },
  "language_info": {
   "codemirror_mode": {
    "name": "ipython",
    "version": 3
   },
   "file_extension": ".py",
   "mimetype": "text/x-python",
   "name": "python",
   "nbconvert_exporter": "python",
   "pygments_lexer": "ipython3",
   "version": "3.10.11"
  }
 },
 "nbformat": 4,
 "nbformat_minor": 2
}
